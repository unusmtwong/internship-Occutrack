{
 "cells": [
  {
   "cell_type": "code",
   "execution_count": 1,
   "id": "6c1a6a8f",
   "metadata": {},
   "outputs": [],
   "source": [
    "import cv2   # Importing OpenCV package\n",
    "import os    # Importing OS module"
   ]
  },
  {
   "cell_type": "code",
   "execution_count": 2,
   "id": "2cdbff66",
   "metadata": {},
   "outputs": [],
   "source": [
    "def find_eyes(filename):\n",
    "   # Reading the image\n",
    "    print(\"Reading file {}\".format(filename))\n",
    "    img = cv2.imread(filename) \n",
    "\n",
    "    # Converting image to grayscale\n",
    "    gray_img = cv2.cvtColor(img, cv2.COLOR_BGR2GRAY)\n",
    "\n",
    "    # Loading the required haar-cascade xml classifier file for face\n",
    "    haar_face_cascade = cv2.CascadeClassifier('frontalface.xml')\n",
    "\n",
    "    # Applying the face detection method on the grayscale image\n",
    "    # Note: Size of the face image should be around 300x300 pixels\n",
    "    faces_rect = haar_face_cascade.detectMultiScale(gray_img,\n",
    "            scaleFactor=1.1,\n",
    "            minNeighbors=5)\n",
    "\n",
    "    # Loading the required haar-cascade xml classifier file for eye\n",
    "    haar_eye_cascade = cv2.CascadeClassifier('eye.xml')    \n",
    "\n",
    "    count = 1\n",
    "    for (x, y, w, h) in faces_rect:\n",
    "        print(\"{} face detected\".format(count))\n",
    "        dy1 = int(h*0.15)  # Start of eye\n",
    "        dy2 = int(h*0.56)\n",
    "        count = count + 1\n",
    "        cv2.rectangle(img, (x, y), (x+w, y+h), (0, 255, 0), 2)  # Draw the rectangle for faces in green colour\n",
    "        eye_gray = gray_img[(y + dy1):(y + dy2), x:(x + w)]\n",
    "        \n",
    "        # Applying the eye detection method on the grayscale image\n",
    "        eyes_rect = haar_eye_cascade.detectMultiScale(eye_gray,\n",
    "            scaleFactor=1.1,\n",
    "            minNeighbors=2)\n",
    "        for (bx, by, bw, bh) in eyes_rect:\n",
    "            print(bx, by, bw, bh)\n",
    "            cv2.rectangle(img, (x + bx, y + dy1 + by), (x + bx + bw, y + dy1 + by + bh), (0, 0, 255), 2)  # Draw the rectangle for eyes in red colour\n",
    "\n",
    "    print(\"Press \\\"q\\\" to continue\\n\")\n",
    "    cv2.imshow('img', img)\n",
    "    while (True):\n",
    "        if cv2.waitKey(1) & 0xFF == ord('q'):\n",
    "            break\n",
    "\n",
    "    cv2.destroyAllWindows()"
   ]
  },
  {
   "cell_type": "code",
   "execution_count": null,
   "id": "389fa575",
   "metadata": {},
   "outputs": [
    {
     "name": "stdout",
     "output_type": "stream",
     "text": [
      "Reading file img\\testimg01.jpg\n",
      "1 face detected\n",
      "117 18 36 36\n",
      "41 17 48 48\n",
      "Press \"q\" to continue\n",
      "\n"
     ]
    }
   ],
   "source": [
    "IMG_DIR = \"img\"\n",
    "filenames = os.listdir(IMG_DIR)\n",
    "file_count = len(filenames)\n",
    "\n",
    "for fp in range(file_count):\n",
    "    find_eyes(os.path.join(IMG_DIR, filenames[fp]))"
   ]
  }
 ],
 "metadata": {
  "kernelspec": {
   "display_name": "pythonProject",
   "language": "python",
   "name": "pythonproject"
  },
  "language_info": {
   "codemirror_mode": {
    "name": "ipython",
    "version": 3
   },
   "file_extension": ".py",
   "mimetype": "text/x-python",
   "name": "python",
   "nbconvert_exporter": "python",
   "pygments_lexer": "ipython3",
   "version": "3.6.10"
  }
 },
 "nbformat": 4,
 "nbformat_minor": 5
}
